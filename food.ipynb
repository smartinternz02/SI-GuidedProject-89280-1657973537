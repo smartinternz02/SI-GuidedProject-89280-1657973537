{
 "cells": [
  {
   "cell_type": "code",
   "execution_count": 1,
   "id": "7db83b5b",
   "metadata": {},
   "outputs": [],
   "source": [
    "from keras.preprocessing.image import ImageDataGenerator\n",
    "\n",
    "train_datagen = ImageDataGenerator(rescale = 1./255,\n",
    "                                   shear_range = 0.2,\n",
    "                                   zoom_range = 0.2,\n",
    "                                   horizontal_flip = True)\n",
    "\n",
    "test_datagen = ImageDataGenerator(rescale = 1./255)"
   ]
  },
  {
   "cell_type": "code",
   "execution_count": 2,
   "id": "fb8bc160",
   "metadata": {},
   "outputs": [
    {
     "name": "stdout",
     "output_type": "stream",
     "text": [
      "Found 2418 images belonging to 3 classes.\n"
     ]
    }
   ],
   "source": [
    "x = train_datagen.flow_from_directory(r\"D:\\datasets\\food dataset\\dataset\\training_set\",\n",
    "                                                 target_size = (64, 64),\n",
    "                                                 batch_size = 32,\n",
    "                                                 class_mode = 'categorical')"
   ]
  },
  {
   "cell_type": "code",
   "execution_count": 3,
   "id": "aa395c32",
   "metadata": {},
   "outputs": [
    {
     "name": "stdout",
     "output_type": "stream",
     "text": [
      "Found 600 images belonging to 3 classes.\n"
     ]
    }
   ],
   "source": [
    "y= test_datagen.flow_from_directory(r\"D:\\datasets\\food dataset\\dataset\\test_set\",\n",
    "                                                 target_size = (64, 64),\n",
    "                                                 batch_size = 32,\n",
    "                                                 class_mode = 'categorical')"
   ]
  },
  {
   "cell_type": "code",
   "execution_count": 11,
   "id": "fd27607f",
   "metadata": {},
   "outputs": [],
   "source": [
    "from tensorflow.keras.models import Sequential\n",
    "from tensorflow.keras.layers import Conv2D\n",
    "from tensorflow.keras.layers import MaxPool2D\n",
    "from tensorflow.keras.layers import Flatten\n",
    "from tensorflow.keras.layers import Dense\n",
    "from tensorflow.keras.layers import Dropout"
   ]
  },
  {
   "cell_type": "code",
   "execution_count": 5,
   "id": "89745239",
   "metadata": {},
   "outputs": [],
   "source": [
    "model=Sequential()"
   ]
  },
  {
   "cell_type": "code",
   "execution_count": 6,
   "id": "de7d5f06",
   "metadata": {},
   "outputs": [],
   "source": [
    "model.add(Conv2D(32,(3,3),activation='relu',input_shape=(64,64,3)))"
   ]
  },
  {
   "cell_type": "code",
   "execution_count": 7,
   "id": "984796fe",
   "metadata": {},
   "outputs": [],
   "source": [
    "model.add(MaxPool2D(2,2))"
   ]
  },
  {
   "cell_type": "code",
   "execution_count": 8,
   "id": "7fcbc0a1",
   "metadata": {},
   "outputs": [],
   "source": [
    "model.add(Conv2D(32,(3,3),activation='relu'))\n",
    "model.add(MaxPool2D(2,2))  "
   ]
  },
  {
   "cell_type": "code",
   "execution_count": 12,
   "id": "f504c4a3",
   "metadata": {},
   "outputs": [],
   "source": [
    "model.add(Dropout(0.2))"
   ]
  },
  {
   "cell_type": "code",
   "execution_count": 13,
   "id": "f7216139",
   "metadata": {},
   "outputs": [],
   "source": [
    "model.add(Flatten())"
   ]
  },
  {
   "cell_type": "code",
   "execution_count": 16,
   "id": "c81b6cf1",
   "metadata": {},
   "outputs": [],
   "source": [
    "model.add(Dense(32))"
   ]
  },
  {
   "cell_type": "code",
   "execution_count": 17,
   "id": "2664c437",
   "metadata": {},
   "outputs": [],
   "source": [
    "model.add(Dense(3,activation='softmax'))"
   ]
  },
  {
   "cell_type": "code",
   "execution_count": 18,
   "id": "5a5b073d",
   "metadata": {},
   "outputs": [],
   "source": [
    "model.compile(loss='categorical_crossentropy',optimizer='adam',metrics=['accuracy'])"
   ]
  },
  {
   "cell_type": "code",
   "execution_count": 19,
   "id": "7207556a",
   "metadata": {},
   "outputs": [
    {
     "name": "stderr",
     "output_type": "stream",
     "text": [
      "C:\\Users\\amang\\AppData\\Local\\Temp\\ipykernel_108420\\3354968820.py:1: UserWarning: `Model.fit_generator` is deprecated and will be removed in a future version. Please use `Model.fit`, which supports generators.\n",
      "  model.fit_generator(\n"
     ]
    },
    {
     "name": "stdout",
     "output_type": "stream",
     "text": [
      "Epoch 1/80\n",
      "76/76 [==============================] - 83s 1s/step - loss: 1.1111 - accuracy: 0.3615 - val_loss: 1.0742 - val_accuracy: 0.4450\n",
      "Epoch 2/80\n",
      "76/76 [==============================] - 16s 209ms/step - loss: 1.0662 - accuracy: 0.4376 - val_loss: 1.1351 - val_accuracy: 0.3867\n",
      "Epoch 3/80\n",
      "76/76 [==============================] - 16s 205ms/step - loss: 1.0445 - accuracy: 0.4653 - val_loss: 0.9526 - val_accuracy: 0.5333\n",
      "Epoch 4/80\n",
      "76/76 [==============================] - 16s 209ms/step - loss: 0.9918 - accuracy: 0.4897 - val_loss: 0.8885 - val_accuracy: 0.5900\n",
      "Epoch 5/80\n",
      "76/76 [==============================] - 43s 567ms/step - loss: 0.9561 - accuracy: 0.5393 - val_loss: 0.9777 - val_accuracy: 0.5433\n",
      "Epoch 6/80\n",
      "76/76 [==============================] - 32s 421ms/step - loss: 0.9057 - accuracy: 0.5782 - val_loss: 0.8571 - val_accuracy: 0.6050\n",
      "Epoch 7/80\n",
      "76/76 [==============================] - 16s 205ms/step - loss: 0.8504 - accuracy: 0.6208 - val_loss: 0.8292 - val_accuracy: 0.6383\n",
      "Epoch 8/80\n",
      "76/76 [==============================] - 15s 202ms/step - loss: 0.8092 - accuracy: 0.6307 - val_loss: 0.7771 - val_accuracy: 0.6500\n",
      "Epoch 9/80\n",
      "76/76 [==============================] - 17s 222ms/step - loss: 0.7898 - accuracy: 0.6464 - val_loss: 0.7523 - val_accuracy: 0.6767\n",
      "Epoch 10/80\n",
      "76/76 [==============================] - 17s 224ms/step - loss: 0.7493 - accuracy: 0.6563 - val_loss: 0.6728 - val_accuracy: 0.7167\n",
      "Epoch 11/80\n",
      "76/76 [==============================] - 17s 221ms/step - loss: 0.7312 - accuracy: 0.6840 - val_loss: 0.7290 - val_accuracy: 0.7050\n",
      "Epoch 12/80\n",
      "76/76 [==============================] - 50s 663ms/step - loss: 0.6959 - accuracy: 0.6989 - val_loss: 0.9981 - val_accuracy: 0.6083\n",
      "Epoch 13/80\n",
      "76/76 [==============================] - 28s 368ms/step - loss: 0.6879 - accuracy: 0.7060 - val_loss: 0.7141 - val_accuracy: 0.7100\n",
      "Epoch 14/80\n",
      "76/76 [==============================] - 18s 233ms/step - loss: 0.6682 - accuracy: 0.7084 - val_loss: 0.8342 - val_accuracy: 0.6617\n",
      "Epoch 15/80\n",
      "76/76 [==============================] - 16s 216ms/step - loss: 0.6821 - accuracy: 0.7138 - val_loss: 0.6649 - val_accuracy: 0.7467\n",
      "Epoch 16/80\n",
      "76/76 [==============================] - 36s 478ms/step - loss: 0.6276 - accuracy: 0.7349 - val_loss: 0.6526 - val_accuracy: 0.7383\n",
      "Epoch 17/80\n",
      "76/76 [==============================] - 42s 560ms/step - loss: 0.6159 - accuracy: 0.7353 - val_loss: 0.6652 - val_accuracy: 0.7500\n",
      "Epoch 18/80\n",
      "76/76 [==============================] - 19s 245ms/step - loss: 0.5976 - accuracy: 0.7481 - val_loss: 0.6667 - val_accuracy: 0.7433\n",
      "Epoch 19/80\n",
      "76/76 [==============================] - 20s 262ms/step - loss: 0.5593 - accuracy: 0.7696 - val_loss: 0.6561 - val_accuracy: 0.7633\n",
      "Epoch 20/80\n",
      "76/76 [==============================] - 18s 232ms/step - loss: 0.5387 - accuracy: 0.7812 - val_loss: 0.5456 - val_accuracy: 0.7900\n",
      "Epoch 21/80\n",
      "76/76 [==============================] - 16s 210ms/step - loss: 0.5416 - accuracy: 0.7605 - val_loss: 0.5839 - val_accuracy: 0.7667\n",
      "Epoch 22/80\n",
      "76/76 [==============================] - 16s 217ms/step - loss: 0.5206 - accuracy: 0.7829 - val_loss: 0.7052 - val_accuracy: 0.7267\n",
      "Epoch 23/80\n",
      "76/76 [==============================] - 17s 227ms/step - loss: 0.5155 - accuracy: 0.7932 - val_loss: 0.5306 - val_accuracy: 0.7733\n",
      "Epoch 24/80\n",
      "76/76 [==============================] - 19s 254ms/step - loss: 0.4683 - accuracy: 0.8164 - val_loss: 0.7079 - val_accuracy: 0.7533\n",
      "Epoch 25/80\n",
      "76/76 [==============================] - 21s 273ms/step - loss: 0.5097 - accuracy: 0.7862 - val_loss: 0.5522 - val_accuracy: 0.7850\n",
      "Epoch 26/80\n",
      "76/76 [==============================] - 23s 297ms/step - loss: 0.5061 - accuracy: 0.7932 - val_loss: 0.7362 - val_accuracy: 0.7200\n",
      "Epoch 27/80\n",
      "76/76 [==============================] - 18s 231ms/step - loss: 0.4846 - accuracy: 0.8007 - val_loss: 0.5043 - val_accuracy: 0.7917\n",
      "Epoch 28/80\n",
      "76/76 [==============================] - 17s 227ms/step - loss: 0.4868 - accuracy: 0.8036 - val_loss: 0.5848 - val_accuracy: 0.7683\n",
      "Epoch 29/80\n",
      "76/76 [==============================] - 16s 215ms/step - loss: 0.4763 - accuracy: 0.8007 - val_loss: 0.5634 - val_accuracy: 0.7967\n",
      "Epoch 30/80\n",
      "76/76 [==============================] - 19s 254ms/step - loss: 0.4382 - accuracy: 0.8201 - val_loss: 0.5117 - val_accuracy: 0.8050\n",
      "Epoch 31/80\n",
      "76/76 [==============================] - 19s 251ms/step - loss: 0.4463 - accuracy: 0.8201 - val_loss: 0.5454 - val_accuracy: 0.7917\n",
      "Epoch 32/80\n",
      "76/76 [==============================] - 19s 253ms/step - loss: 0.4435 - accuracy: 0.8197 - val_loss: 0.5348 - val_accuracy: 0.8133\n",
      "Epoch 33/80\n",
      "76/76 [==============================] - 18s 233ms/step - loss: 0.4344 - accuracy: 0.8284 - val_loss: 0.6349 - val_accuracy: 0.7750\n",
      "Epoch 34/80\n",
      "76/76 [==============================] - 22s 284ms/step - loss: 0.4073 - accuracy: 0.8391 - val_loss: 0.5318 - val_accuracy: 0.8150\n",
      "Epoch 35/80\n",
      "76/76 [==============================] - 20s 262ms/step - loss: 0.4328 - accuracy: 0.8176 - val_loss: 0.5695 - val_accuracy: 0.7983\n",
      "Epoch 36/80\n",
      "76/76 [==============================] - 17s 229ms/step - loss: 0.4098 - accuracy: 0.8420 - val_loss: 0.5771 - val_accuracy: 0.8017\n",
      "Epoch 37/80\n",
      "76/76 [==============================] - 17s 227ms/step - loss: 0.4081 - accuracy: 0.8329 - val_loss: 0.5050 - val_accuracy: 0.8283\n",
      "Epoch 38/80\n",
      "76/76 [==============================] - 22s 288ms/step - loss: 0.4133 - accuracy: 0.8358 - val_loss: 0.5735 - val_accuracy: 0.7933\n",
      "Epoch 39/80\n",
      "76/76 [==============================] - 18s 234ms/step - loss: 0.4040 - accuracy: 0.8354 - val_loss: 0.5371 - val_accuracy: 0.7950\n",
      "Epoch 40/80\n",
      "76/76 [==============================] - 20s 267ms/step - loss: 0.3772 - accuracy: 0.8519 - val_loss: 0.5309 - val_accuracy: 0.8117\n",
      "Epoch 41/80\n",
      "76/76 [==============================] - 18s 232ms/step - loss: 0.3863 - accuracy: 0.8482 - val_loss: 0.5361 - val_accuracy: 0.8150\n",
      "Epoch 42/80\n",
      "76/76 [==============================] - 18s 238ms/step - loss: 0.3730 - accuracy: 0.8528 - val_loss: 0.6431 - val_accuracy: 0.7983\n",
      "Epoch 43/80\n",
      "76/76 [==============================] - 16s 217ms/step - loss: 0.3710 - accuracy: 0.8548 - val_loss: 0.4910 - val_accuracy: 0.8333\n",
      "Epoch 44/80\n",
      "76/76 [==============================] - 16s 216ms/step - loss: 0.3519 - accuracy: 0.8685 - val_loss: 0.5402 - val_accuracy: 0.8083\n",
      "Epoch 45/80\n",
      "76/76 [==============================] - 17s 222ms/step - loss: 0.3540 - accuracy: 0.8610 - val_loss: 0.4815 - val_accuracy: 0.8383\n",
      "Epoch 46/80\n",
      "76/76 [==============================] - 17s 222ms/step - loss: 0.3605 - accuracy: 0.8553 - val_loss: 0.5167 - val_accuracy: 0.8033\n",
      "Epoch 47/80\n",
      "76/76 [==============================] - 16s 210ms/step - loss: 0.3517 - accuracy: 0.8656 - val_loss: 0.6038 - val_accuracy: 0.8100\n",
      "Epoch 48/80\n",
      "76/76 [==============================] - 18s 232ms/step - loss: 0.3438 - accuracy: 0.8664 - val_loss: 0.5122 - val_accuracy: 0.8383\n",
      "Epoch 49/80\n",
      "76/76 [==============================] - 17s 229ms/step - loss: 0.3323 - accuracy: 0.8681 - val_loss: 0.5454 - val_accuracy: 0.8233\n",
      "Epoch 50/80\n",
      "76/76 [==============================] - 17s 228ms/step - loss: 0.3528 - accuracy: 0.8519 - val_loss: 0.5970 - val_accuracy: 0.8267\n",
      "Epoch 51/80\n",
      "76/76 [==============================] - 18s 231ms/step - loss: 0.3423 - accuracy: 0.8623 - val_loss: 0.5067 - val_accuracy: 0.8417\n",
      "Epoch 52/80\n",
      "76/76 [==============================] - 17s 220ms/step - loss: 0.3536 - accuracy: 0.8627 - val_loss: 0.5032 - val_accuracy: 0.8400\n",
      "Epoch 53/80\n",
      "76/76 [==============================] - 16s 216ms/step - loss: 0.3416 - accuracy: 0.8681 - val_loss: 0.5707 - val_accuracy: 0.8150\n",
      "Epoch 54/80\n",
      "76/76 [==============================] - 18s 232ms/step - loss: 0.3205 - accuracy: 0.8768 - val_loss: 0.5485 - val_accuracy: 0.8367\n",
      "Epoch 55/80\n",
      "76/76 [==============================] - 17s 226ms/step - loss: 0.3097 - accuracy: 0.8784 - val_loss: 0.5071 - val_accuracy: 0.8400\n",
      "Epoch 56/80\n",
      "76/76 [==============================] - 17s 228ms/step - loss: 0.3103 - accuracy: 0.8722 - val_loss: 0.6301 - val_accuracy: 0.8067\n",
      "Epoch 57/80\n",
      "76/76 [==============================] - 17s 221ms/step - loss: 0.3170 - accuracy: 0.8809 - val_loss: 0.5088 - val_accuracy: 0.8333\n"
     ]
    },
    {
     "name": "stdout",
     "output_type": "stream",
     "text": [
      "Epoch 58/80\n",
      "76/76 [==============================] - 18s 232ms/step - loss: 0.3479 - accuracy: 0.8602 - val_loss: 0.4789 - val_accuracy: 0.8333\n",
      "Epoch 59/80\n",
      "76/76 [==============================] - 17s 229ms/step - loss: 0.2965 - accuracy: 0.8838 - val_loss: 0.4748 - val_accuracy: 0.8500\n",
      "Epoch 60/80\n",
      "76/76 [==============================] - 17s 227ms/step - loss: 0.2735 - accuracy: 0.8846 - val_loss: 0.5684 - val_accuracy: 0.8300\n",
      "Epoch 61/80\n",
      "76/76 [==============================] - 16s 208ms/step - loss: 0.2776 - accuracy: 0.8929 - val_loss: 0.5256 - val_accuracy: 0.8367\n",
      "Epoch 62/80\n",
      "76/76 [==============================] - 17s 218ms/step - loss: 0.3008 - accuracy: 0.8859 - val_loss: 0.5236 - val_accuracy: 0.8433\n",
      "Epoch 63/80\n",
      "76/76 [==============================] - 16s 208ms/step - loss: 0.2868 - accuracy: 0.8921 - val_loss: 0.6488 - val_accuracy: 0.8050\n",
      "Epoch 64/80\n",
      "76/76 [==============================] - 17s 222ms/step - loss: 0.2984 - accuracy: 0.8867 - val_loss: 0.5114 - val_accuracy: 0.8450\n",
      "Epoch 65/80\n",
      "76/76 [==============================] - 17s 229ms/step - loss: 0.2711 - accuracy: 0.8900 - val_loss: 0.5628 - val_accuracy: 0.8317\n",
      "Epoch 66/80\n",
      "76/76 [==============================] - 17s 220ms/step - loss: 0.2798 - accuracy: 0.8954 - val_loss: 0.5485 - val_accuracy: 0.8383\n",
      "Epoch 67/80\n",
      "76/76 [==============================] - 16s 209ms/step - loss: 0.2845 - accuracy: 0.8846 - val_loss: 0.5331 - val_accuracy: 0.8250\n",
      "Epoch 68/80\n",
      "76/76 [==============================] - 15s 203ms/step - loss: 0.2833 - accuracy: 0.8892 - val_loss: 0.6108 - val_accuracy: 0.8267\n",
      "Epoch 69/80\n",
      "76/76 [==============================] - 15s 202ms/step - loss: 0.3029 - accuracy: 0.8784 - val_loss: 0.7688 - val_accuracy: 0.7483\n",
      "Epoch 70/80\n",
      "76/76 [==============================] - 15s 196ms/step - loss: 0.2785 - accuracy: 0.8978 - val_loss: 0.4991 - val_accuracy: 0.8417\n",
      "Epoch 71/80\n",
      "76/76 [==============================] - 17s 220ms/step - loss: 0.2654 - accuracy: 0.8933 - val_loss: 0.5255 - val_accuracy: 0.8433\n",
      "Epoch 72/80\n",
      "76/76 [==============================] - 17s 219ms/step - loss: 0.3121 - accuracy: 0.8805 - val_loss: 0.6567 - val_accuracy: 0.8017\n",
      "Epoch 73/80\n",
      "76/76 [==============================] - 16s 205ms/step - loss: 0.2527 - accuracy: 0.8958 - val_loss: 0.5410 - val_accuracy: 0.8367\n",
      "Epoch 74/80\n",
      "76/76 [==============================] - 16s 204ms/step - loss: 0.2406 - accuracy: 0.9069 - val_loss: 0.6666 - val_accuracy: 0.8233\n",
      "Epoch 75/80\n",
      "76/76 [==============================] - 15s 203ms/step - loss: 0.2510 - accuracy: 0.9003 - val_loss: 0.5007 - val_accuracy: 0.8533\n",
      "Epoch 76/80\n",
      "76/76 [==============================] - 15s 199ms/step - loss: 0.2554 - accuracy: 0.8966 - val_loss: 0.6714 - val_accuracy: 0.8067\n",
      "Epoch 77/80\n",
      "76/76 [==============================] - 16s 207ms/step - loss: 0.2594 - accuracy: 0.8999 - val_loss: 0.5825 - val_accuracy: 0.8250\n",
      "Epoch 78/80\n",
      "76/76 [==============================] - 17s 222ms/step - loss: 0.2456 - accuracy: 0.9041 - val_loss: 0.5069 - val_accuracy: 0.8483\n",
      "Epoch 79/80\n",
      "76/76 [==============================] - 17s 223ms/step - loss: 0.2450 - accuracy: 0.9020 - val_loss: 0.5835 - val_accuracy: 0.8400\n",
      "Epoch 80/80\n",
      "76/76 [==============================] - 17s 217ms/step - loss: 0.2453 - accuracy: 0.9045 - val_loss: 0.6298 - val_accuracy: 0.8167\n"
     ]
    },
    {
     "data": {
      "text/plain": [
       "<keras.callbacks.History at 0x22b45626f40>"
      ]
     },
     "execution_count": 19,
     "metadata": {},
     "output_type": "execute_result"
    }
   ],
   "source": [
    "model.fit_generator(\n",
    "  x,\n",
    "  validation_data=y,\n",
    "  epochs=80,\n",
    "  steps_per_epoch=len(x),\n",
    "  validation_steps=len(y)\n",
    ")"
   ]
  },
  {
   "cell_type": "code",
   "execution_count": 20,
   "id": "60116dba",
   "metadata": {},
   "outputs": [],
   "source": [
    "model.save(\"food.h5\")"
   ]
  },
  {
   "cell_type": "code",
   "execution_count": null,
   "id": "2196089c",
   "metadata": {},
   "outputs": [],
   "source": []
  }
 ],
 "metadata": {
  "kernelspec": {
   "display_name": "Python 3 (ipykernel)",
   "language": "python",
   "name": "python3"
  },
  "language_info": {
   "codemirror_mode": {
    "name": "ipython",
    "version": 3
   },
   "file_extension": ".py",
   "mimetype": "text/x-python",
   "name": "python",
   "nbconvert_exporter": "python",
   "pygments_lexer": "ipython3",
   "version": "3.9.12"
  }
 },
 "nbformat": 4,
 "nbformat_minor": 5
}
